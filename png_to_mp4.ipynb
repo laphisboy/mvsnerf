{
 "cells": [
  {
   "cell_type": "code",
   "execution_count": 3,
   "metadata": {},
   "outputs": [],
   "source": [
    "import imageio\n",
    "import os\n",
    "import glob"
   ]
  },
  {
   "cell_type": "code",
   "execution_count": 38,
   "metadata": {},
   "outputs": [],
   "source": [
    "ckpt = 'base-3src-dense.tar'\n",
    "num_src_views = 3\n",
    "source = 'train'\n",
    "target = 'test'\n",
    "view_type = 'dense\n",
    "\n",
    "scene = 'lego'"
   ]
  },
  {
   "cell_type": "code",
   "execution_count": 21,
   "metadata": {},
   "outputs": [],
   "source": [
    "base_path = f'/mnt/hdd/youngsun/mvsnerf_timing/results/{ckpt[:-4]}/blender-{num_src_views}-{view_type}-{source}-{target}'\n",
    "scene_path = os.path.join(base_path, scene) + '*.png'\n",
    "\n",
    "file_list = glob.glob(scene_path)\n",
    "file_list.sort()"
   ]
  },
  {
   "cell_type": "code",
   "execution_count": 26,
   "metadata": {},
   "outputs": [],
   "source": [
    "save_path = f'/mnt/hdd/youngsun/mvsnerf_timing/results_video/{ckpt[:-4]}/blender-{num_src_views}-{view_type}-{source}-{target}/'\n",
    "os.makedirs(save_path, exist_ok=True)\n",
    "\n",
    "save_video_path = os.path.join(save_path, scene) + '.mp4'"
   ]
  },
  {
   "cell_type": "code",
   "execution_count": 40,
   "metadata": {},
   "outputs": [],
   "source": [
    "writer = imageio.get_writer(save_video_path, fps=15)\n",
    "\n",
    "for im in file_list:\n",
    "    writer.append_data(imageio.imread(im))\n",
    "writer.close()"
   ]
  }
 ],
 "metadata": {
  "kernelspec": {
   "display_name": "Python 3",
   "language": "python",
   "name": "python3"
  },
  "language_info": {
   "codemirror_mode": {
    "name": "ipython",
    "version": 3
   },
   "file_extension": ".py",
   "mimetype": "text/x-python",
   "name": "python",
   "nbconvert_exporter": "python",
   "pygments_lexer": "ipython3",
   "version": "3.8.10"
  }
 },
 "nbformat": 4,
 "nbformat_minor": 4
}
