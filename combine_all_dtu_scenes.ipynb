{
 "cells": [
  {
   "cell_type": "code",
   "execution_count": 3,
   "metadata": {},
   "outputs": [],
   "source": [
    "from PIL import Image\n",
    "import imageio\n",
    "import os\n",
    "import glob\n",
    "import math\n",
    "\n",
    "import re\n",
    "\n",
    "def sort_scenes(l):\n",
    "    convert = lambda text: float(text) if text.isdigit() else text\n",
    "    alphanum = lambda key: [convert(c) for c in re.split('([-+]?[0-9]*\\.?[0-9]*)', key)]\n",
    "    l.sort(key=alphanum)\n",
    "    return l"
   ]
  },
  {
   "cell_type": "code",
   "execution_count": 4,
   "metadata": {},
   "outputs": [],
   "source": [
    "base_path = '/mnt/hdd/mvsnerf_data/dtu/Rectified'\n",
    "scenes = sort_scenes(os.listdir(base_path))\n",
    "scene_paths = [os.path.join(base_path, scene) for scene in scenes]\n",
    "\n",
    "camera = 47\n",
    "light = 5\n",
    "image_name = f'rect_{camera:03d}_{light}_r5000.png'\n",
    "\n",
    "image_paths = [os.path.join(scene_path, image_name) for scene_path in scene_paths]"
   ]
  },
  {
   "cell_type": "code",
   "execution_count": 5,
   "metadata": {},
   "outputs": [
    {
     "name": "stdout",
     "output_type": "stream",
     "text": [
      "11 11 2\n"
     ]
    }
   ],
   "source": [
    "num_images = len(image_paths)\n",
    "num_sqrt = math.sqrt(num_images)\n",
    "\n",
    "if num_sqrt.is_integer():\n",
    "    tile_height = num_sqrt\n",
    "    tile_width = num_sqrt\n",
    "    tile_fill = 0\n",
    "    \n",
    "else:\n",
    "    num_ceil = math.ceil(num_sqrt)\n",
    "    num_floor = math.floor(num_sqrt)\n",
    "    \n",
    "    ceil_mul_floor = num_ceil * num_floor\n",
    "    \n",
    "    if num_images <= (ceil_mul_floor):\n",
    "        tile_width = num_ceil\n",
    "        tile_height = num_floor\n",
    "        tile_fill = ceil_mul_floor - num_images\n",
    "        \n",
    "    if num_images > (ceil_mul_floor):\n",
    "        tile_height = num_ceil\n",
    "        tile_width = num_ceil\n",
    "        tile_fill = num_ceil * num_ceil - num_images        \n",
    "\n",
    "print(tile_width, tile_height, tile_fill)"
   ]
  },
  {
   "cell_type": "code",
   "execution_count": 6,
   "metadata": {},
   "outputs": [],
   "source": [
    "for i, image_path in enumerate(image_paths):\n",
    "    image = Image.open(image_path)\n",
    "    \n",
    "    if i == 0:\n",
    "        image_width = image.width\n",
    "        image_height = image.height\n",
    "        \n",
    "        dst = Image.new('RGB', (image.width * tile_width, image.height * tile_height))\n",
    "    \n",
    "    dst.paste(image, (image_width * (i % tile_width), image_height * (i // tile_width)))"
   ]
  },
  {
   "cell_type": "code",
   "execution_count": 7,
   "metadata": {},
   "outputs": [],
   "source": [
    "dst.save(f'./all_dtu_scenes_{camera:03d}_{light}_r5000.png')"
   ]
  },
  {
   "cell_type": "code",
   "execution_count": 21,
   "metadata": {},
   "outputs": [],
   "source": [
    "# make as function\n",
    "\n",
    "def get_combined_image_dimension(image_paths):\n",
    "    num_images = len(image_paths)\n",
    "    num_sqrt = math.sqrt(num_images)\n",
    "\n",
    "    if num_sqrt.is_integer():\n",
    "        tile_height = num_sqrt\n",
    "        tile_width = num_sqrt\n",
    "        tile_fill = 0\n",
    "\n",
    "    else:\n",
    "        num_ceil = math.ceil(num_sqrt)\n",
    "        num_floor = math.floor(num_sqrt)\n",
    "\n",
    "        ceil_mul_floor = num_ceil * num_floor\n",
    "\n",
    "        if num_images <= (ceil_mul_floor):\n",
    "            tile_width = num_ceil\n",
    "            tile_height = num_floor\n",
    "            tile_fill = ceil_mul_floor - num_images\n",
    "\n",
    "        if num_images > (ceil_mul_floor):\n",
    "            tile_width = num_ceil\n",
    "            tile_height = num_ceil\n",
    "            tile_fill = num_ceil * num_ceil - num_images        \n",
    "    \n",
    "    return tile_width, tile_height, tile_fill\n",
    "\n",
    "\n",
    "def combine_all_scenes(base_path, camera, light):\n",
    "    \n",
    "    scenes = sort_scenes(os.listdir(base_path))\n",
    "    scene_paths = [os.path.join(base_path, scene) for scene in scenes]\n",
    "    \n",
    "    image_name = f'rect_{camera:03d}_{light}_r5000.png'\n",
    "    image_paths = [os.path.join(scene_path, image_name) for scene_path in scene_paths]\n",
    "    \n",
    "    tile_width, tile_height, _ = get_combined_image_dimension(image_paths)\n",
    "    \n",
    "    for i, image_path in enumerate(image_paths):\n",
    "        image = Image.open(image_path)\n",
    "\n",
    "        if i == 0:\n",
    "            image_width = image.width\n",
    "            image_height = image.height\n",
    "\n",
    "            dst = Image.new('RGB', (image.width * tile_width, image.height * tile_height))\n",
    "\n",
    "        dst.paste(image, (image_width * (i % tile_width), image_height * (i // tile_width)))\n",
    "    \n",
    "    save_dir = f'/mnt/hdd/mvsnerf_data/all_dtu_scenes/{light}'\n",
    "    save_name = f'all_dtu_scenes_{camera:03d}_{light}_r5000.png'\n",
    "    \n",
    "    os.makedirs(save_dir, exist_ok=True)\n",
    "    \n",
    "    dst.save(os.path.join(save_dir, save_name))\n",
    "    \n",
    "def create_video(save_dir, light, fps):\n",
    "    file_list = glob.glob(os.path.join(save_dir, '*.png'))\n",
    "    file_list.sort()\n",
    "    \n",
    "    os.makedirs(os.path.join(save_dir, 'video'), exist_ok=True)\n",
    "    save_video_path = os.path.join(save_dir, f'video/{light}.mp4')\n",
    "    \n",
    "    writer = imageio.get_writer(save_video_path, fps=fps)\n",
    "\n",
    "    for im in file_list:\n",
    "        writer.append_data(imageio.imread(im))\n",
    "    writer.close()"
   ]
  },
  {
   "cell_type": "code",
   "execution_count": 15,
   "metadata": {},
   "outputs": [],
   "source": [
    "base_path = '/mnt/hdd/mvsnerf_data/dtu/Rectified'\n",
    "light = 6\n",
    "\n",
    "for camera in range(1, 48+1):   \n",
    "    combine_all_scenes(base_path, camera, light)"
   ]
  },
  {
   "cell_type": "code",
   "execution_count": null,
   "metadata": {},
   "outputs": [],
   "source": [
    "light = 1"
   ]
  },
  {
   "cell_type": "code",
   "execution_count": 16,
   "metadata": {},
   "outputs": [],
   "source": [
    "save_dir = f'/mnt/hdd/mvsnerf_data/all_dtu_scenes/{light}/'\n",
    "\n",
    "file_list = glob.glob(os.path.join(save_dir, '*.png'))\n",
    "file_list.sort()"
   ]
  },
  {
   "cell_type": "code",
   "execution_count": 17,
   "metadata": {},
   "outputs": [],
   "source": [
    "os.makedirs(os.path.join(save_dir, 'video'), exist_ok=True)\n",
    "\n",
    "save_video_path = os.path.join(save_dir, f'video/{light}.mp4')"
   ]
  },
  {
   "cell_type": "code",
   "execution_count": 19,
   "metadata": {},
   "outputs": [],
   "source": [
    "writer = imageio.get_writer(save_video_path, fps=6)\n",
    "\n",
    "for im in file_list:\n",
    "    writer.append_data(imageio.imread(im))\n",
    "writer.close()"
   ]
  },
  {
   "cell_type": "code",
   "execution_count": 22,
   "metadata": {},
   "outputs": [],
   "source": [
    "save_dir = f'/mnt/hdd/mvsnerf_data/all_dtu_scenes/{light}/'\n",
    "for light in [1, 6]:\n",
    "    create_video(save_dir, light, fps=12)"
   ]
  },
  {
   "cell_type": "code",
   "execution_count": null,
   "metadata": {},
   "outputs": [],
   "source": []
  }
 ],
 "metadata": {
  "kernelspec": {
   "display_name": "Python 3",
   "language": "python",
   "name": "python3"
  },
  "language_info": {
   "codemirror_mode": {
    "name": "ipython",
    "version": 3
   },
   "file_extension": ".py",
   "mimetype": "text/x-python",
   "name": "python",
   "nbconvert_exporter": "python",
   "pygments_lexer": "ipython3",
   "version": "3.8.10"
  }
 },
 "nbformat": 4,
 "nbformat_minor": 4
}
