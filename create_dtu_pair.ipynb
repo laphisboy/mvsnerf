{
 "cells": [
  {
   "cell_type": "code",
   "execution_count": 81,
   "id": "e683aa20",
   "metadata": {},
   "outputs": [],
   "source": [
    "import torch\n",
    "from opt import config_parser\n",
    "from data import dataset_dict\n",
    "import numpy as np"
   ]
  },
  {
   "cell_type": "code",
   "execution_count": 82,
   "id": "bd0b771e",
   "metadata": {},
   "outputs": [],
   "source": [
    "img_idx = torch.load('configs/pairs.th')[f'dtu_train']"
   ]
  },
  {
   "cell_type": "code",
   "execution_count": 83,
   "id": "5160d6cd",
   "metadata": {},
   "outputs": [
    {
     "name": "stdout",
     "output_type": "stream",
     "text": [
      "==> image down scale: 1.0\n",
      "===> training index: [25, 21, 33, 22, 14, 15, 26, 30, 31, 35, 34, 43, 46, 29, 16, 36]\n"
     ]
    }
   ],
   "source": [
    "scene = 1\n",
    "\n",
    "dataset = dataset_dict['dtu_ft']\n",
    "\n",
    "cmd = f'--datadir /mnt/hdd/mvsnerf_data/dtu/scan{scene}  \\\n",
    "     --dataset_name dtu_ft  \\\n",
    "     --net_type v0 --ckpt ./ckpts/mvsnerf-v0.tar '\n",
    "\n",
    "args = config_parser(cmd.split())\n",
    "\n",
    "dataset_train = dataset(args, split='train')"
   ]
  },
  {
   "cell_type": "code",
   "execution_count": 84,
   "id": "6eca43d9",
   "metadata": {},
   "outputs": [],
   "source": [
    "with open('./configs/dtu_full_pairs.txt', 'w') as f:\n",
    "    \n",
    "    f.write('16\\n')\n",
    "    \n",
    "    for num, i in enumerate(img_idx):\n",
    "        \n",
    "        f.write(f'{i}\\n15 ')\n",
    "\n",
    "        # find nearest image idx\n",
    "        positions = dataset_train.poses[:,:3,3]\n",
    "        dis = np.sum(np.abs(positions - dataset_train.poses[num,:3,3]), axis=-1)\n",
    "        pair_dis = np.sort(dis)[1:]\n",
    "        pair_idx = np.argsort(dis)[1:]\n",
    "        pair_idx = [dataset_train.img_idx[item] for item in pair_idx]\n",
    "\n",
    "        for idx, dist in zip(pair_idx, pair_dis):\n",
    "            f.write(f'{idx} {dist:.3f} ')\n",
    "        f.write('\\n')"
   ]
  }
 ],
 "metadata": {
  "kernelspec": {
   "display_name": "Python 3 (ipykernel)",
   "language": "python",
   "name": "python3"
  },
  "language_info": {
   "codemirror_mode": {
    "name": "ipython",
    "version": 3
   },
   "file_extension": ".py",
   "mimetype": "text/x-python",
   "name": "python",
   "nbconvert_exporter": "python",
   "pygments_lexer": "ipython3",
   "version": "3.8.12"
  }
 },
 "nbformat": 4,
 "nbformat_minor": 5
}
